{
 "cells": [
  {
   "cell_type": "markdown",
   "metadata": {},
   "source": [
    "# 简单数据分析案例"
   ]
  },
  {
   "cell_type": "markdown",
   "metadata": {},
   "source": [
    "    在本案例中，你将通过一个趣味主题来对自己所学的基础Python知识进行实践。无须担心，本项目基本使用课堂中教授的基本知识。当然了，也会有一些必要的拓展，这些新内容在下文中也会作出解释以及基本的说明。"
   ]
  },
  {
   "cell_type": "markdown",
   "metadata": {},
   "source": [
    "## 健康指数分析 - 成为一位私人健身教练"
   ]
  },
  {
   "cell_type": "markdown",
   "metadata": {},
   "source": [
    "    众所周知，越来越多的人开始重视自己的体型与身材。如果你第一次走进健身房，健身教练肯定会带你去测量自己的一些身体指标（如身高、体重、体脂含量等等），然后根据你自己的信息来对你的健身计划作出提议。\n",
    "    \n",
    "    对于绝大多数健身教练来说，他应该同时会负责好几位健身房会员。所以，一位合格的健身教练，他必须要对自己负责的会员的信息有一个把握以及汇总，才能够在接下来的训练中按情况分类，提高工作效率。\n",
    "    \n",
    "    本案例便可以模拟录入会员信息并使用科学的工具将数据可视化，你在完成这些工作后，理应能够看懂各位会员的身体健康情况并作出数据的分析。"
   ]
  },
  {
   "cell_type": "markdown",
   "metadata": {},
   "source": [
    "## Part 1 - 基本的准备"
   ]
  },
  {
   "cell_type": "markdown",
   "metadata": {},
   "source": [
    "#### 在此第一部分中，你将完成工具包的引入以及一些基本的数据录入。\n",
    "\n",
    "Let's start!"
   ]
  },
  {
   "cell_type": "markdown",
   "metadata": {},
   "source": [
    "### Step 1 - 工具包的引入"
   ]
  },
  {
   "cell_type": "markdown",
   "metadata": {},
   "source": [
    "#### 在本案例中，我们将使用Python自带的random库用于生成随机数据以及用于数据分析的Numpy、Pandas和用于将数据可视化的Matplotlib第三方库。"
   ]
  },
  {
   "cell_type": "markdown",
   "metadata": {},
   "source": [
    "还记得如何引入库与模块吗？使用import关键字+库名就可以啦！现在我先将random模块引入项目，给他起个别名rd。"
   ]
  },
  {
   "cell_type": "code",
   "execution_count": 1,
   "metadata": {},
   "outputs": [],
   "source": [
    "import random as rd"
   ]
  },
  {
   "cell_type": "markdown",
   "metadata": {},
   "source": [
    "再引入matplotlib，按照习惯我们只引入其中的pyplot子模块。并且添加 %matplotlib inline 语句，用于显示matplotlib生成图表。"
   ]
  },
  {
   "cell_type": "code",
   "execution_count": 2,
   "metadata": {},
   "outputs": [],
   "source": [
    "import matplotlib.pyplot as plt\n",
    "%matplotlib inline"
   ]
  },
  {
   "cell_type": "markdown",
   "metadata": {},
   "source": [
    "#### 现在你来试试将Numpy、Pandas引入，注意：为了便于后续代码的运行，我们统一给numpy起别名np，pandas起别名pd。"
   ]
  },
  {
   "cell_type": "code",
   "execution_count": 3,
   "metadata": {},
   "outputs": [],
   "source": [
    "#填写你的代码并运行\n",
    "import numpy as np\n",
    "import pandas as pd"
   ]
  },
  {
   "cell_type": "markdown",
   "metadata": {},
   "source": [
    "### Step 2 - 数据的录入"
   ]
  },
  {
   "cell_type": "markdown",
   "metadata": {},
   "source": [
    "#### 本小节，我们将添加自己的健康信息。但是只有这些信息肯定远远不够，考虑到当前知识的掌握程度，我们会使用随机函数再来生成一些随机的会员健康信息。"
   ]
  },
  {
   "cell_type": "markdown",
   "metadata": {},
   "source": [
    "考虑到信息名以及具体的值应当一一对应（如年龄：18，身高：180），我们使用一个字典保存用户信息，再将所有个人信息存在一个列表中。\n",
    "\n",
    "首先，作为示范，我先将自己的一些信息使用字典录入。以下代码你直接运行即可。\n",
    "\n",
    "需要录入的信息：姓名、年龄、性别、身高、体重、肌肉量、脂肪量。"
   ]
  },
  {
   "cell_type": "code",
   "execution_count": 4,
   "metadata": {},
   "outputs": [],
   "source": [
    "health_data = {'name': 'Tony Black', 'age': 25, 'sex': 'male', 'height': 175, 'weight': 70, 'muscle': 30, 'fat': 12}\n",
    "health_list = [health_data]"
   ]
  },
  {
   "cell_type": "markdown",
   "metadata": {},
   "source": [
    "#### 尝试使用代码将这一条信息显示出来："
   ]
  },
  {
   "cell_type": "code",
   "execution_count": 5,
   "metadata": {},
   "outputs": [
    {
     "data": {
      "text/plain": [
       "[{'name': 'Tony Black',\n",
       "  'age': 25,\n",
       "  'sex': 'male',\n",
       "  'height': 175,\n",
       "  'weight': 70,\n",
       "  'muscle': 30,\n",
       "  'fat': 12}]"
      ]
     },
     "execution_count": 5,
     "metadata": {},
     "output_type": "execute_result"
    }
   ],
   "source": [
    "#填写你的代码并运行\n",
    "health_list"
   ]
  },
  {
   "cell_type": "markdown",
   "metadata": {},
   "source": [
    "我已经将我的信息录入成功啦，你要不要来试试录入你自己的信息，加入我们的健身计划？\n",
    "\n",
    "#### 如果你愿意，可以直接运行下面的代码哦~"
   ]
  },
  {
   "cell_type": "code",
   "execution_count": 6,
   "metadata": {},
   "outputs": [
    {
     "name": "stdout",
     "output_type": "stream",
     "text": [
      "请输入每项基本信息并按回车键结束\n",
      "输入你的姓名：jiaolong\n",
      "输入你的年龄：30\n",
      "输入你的性别(male or female,注意大小写哦)：male\n",
      "输入你的身高(cm)：170\n",
      "输入你的体重(kg)，接受现实吧:110\n",
      "估算一下你的肌肉含量吧，一般正常身材肌肉占体重的30%~40%左右哦：30\n",
      "估算一下你的脂肪含量吧，一般正常身材脂肪占体重的10%~20%左右哦：15\n"
     ]
    }
   ],
   "source": [
    "print('请输入每项基本信息并按回车键结束')\n",
    "name = input('输入你的姓名：')\n",
    "age = int(input('输入你的年龄：'))\n",
    "sex = input('输入你的性别(male or female,注意大小写哦)：')\n",
    "height = int(input('输入你的身高(cm)：'))\n",
    "weight = int(input('输入你的体重(kg)，接受现实吧:'))\n",
    "muscle = int(input('估算一下你的肌肉含量吧，一般正常身材肌肉占体重的30%~40%左右哦：'))\n",
    "fat = int(input('估算一下你的脂肪含量吧，一般正常身材脂肪占体重的10%~20%左右哦：'))"
   ]
  },
  {
   "cell_type": "markdown",
   "metadata": {},
   "source": [
    "还记得怎么将数据存储到列表中吗（可以参考上面我录入自己信息时的代码）\n",
    "#### 请录入自己的数据至字典health_data中，并使用append()方法将这条新数据添加至总的信息列表health_list中。"
   ]
  },
  {
   "cell_type": "code",
   "execution_count": 7,
   "metadata": {},
   "outputs": [],
   "source": [
    "#填写你的代码并运行\n",
    "health_data = {'name': name, 'age': age, 'sex': sex, 'height': height, 'weight': weight, 'muscle': muscle, 'fat': fat}\n",
    "health_list.append(health_data)"
   ]
  },
  {
   "cell_type": "markdown",
   "metadata": {},
   "source": [
    "#### 尝试使用代码分别查看自己新添加的姓名、身高以及体重信息："
   ]
  },
  {
   "cell_type": "code",
   "execution_count": 8,
   "metadata": {},
   "outputs": [
    {
     "name": "stdout",
     "output_type": "stream",
     "text": [
      "姓名： jiaolong 身高： 170 体重： 110\n"
     ]
    }
   ],
   "source": [
    "#填写你的代码并运行\n",
    "print('姓名：',health_list[-1]['name'],'身高：',health_list[-1]['height'],'体重：',health_list[-1]['weight'])"
   ]
  },
  {
   "cell_type": "markdown",
   "metadata": {},
   "source": [
    "#### （选做）使用for循环并以  '键----值'  的格式输出你刚输入的这条会员的所有信息："
   ]
  },
  {
   "cell_type": "code",
   "execution_count": 9,
   "metadata": {},
   "outputs": [
    {
     "name": "stdout",
     "output_type": "stream",
     "text": [
      "name ---- jiaolong\n",
      "age ---- 30\n",
      "sex ---- male\n",
      "height ---- 170\n",
      "weight ---- 110\n",
      "muscle ---- 30\n",
      "fat ---- 15\n"
     ]
    }
   ],
   "source": [
    "#填写你的代码并运行\n",
    "for key, val in health_list[-1].items():\n",
    "    print(key,'----',val)"
   ]
  },
  {
   "cell_type": "markdown",
   "metadata": {},
   "source": [
    "#### 恭喜你！我们已经完成了一些数据的简单手工录入，相信你对列表、字典以及原始输入的方法有了一些掌握。接下来，我们将使用random模块再随机录入一些数据。首先，来介绍一下random模块中的一些我们将要用到的主要方法："
   ]
  },
  {
   "cell_type": "markdown",
   "metadata": {},
   "source": [
    "    1、random.random\n",
    "\n",
    "    random.random()用于生成一个0到1的随机符点数: 0 <= n < 1.0\n",
    "\n",
    "    2、random.uniform\n",
    "\n",
    "    random.uniform(a, b)，用于生成一个指定范围内的随机符点数，两个参数其中一个是上限，一个是下限。如果a > b，则生成的随机数n: a <= n <= b。如果 a <b， 则 b <= n <= a\n",
    "\n",
    "    3、random.randint\n",
    "\n",
    "    random.randint(a, b)，用于生成一个指定范围内的整数。其中参数a是下限，参数b是上限，生成的随机数n: a <= n <= b\n",
    "\n",
    "    4、random.choice\n",
    "\n",
    "    random.choice从序列中获取一个随机元素。"
   ]
  },
  {
   "cell_type": "markdown",
   "metadata": {},
   "source": [
    "#### 现在尝试使用random.randint()在0~20（包括20）之间生成一个随机数："
   ]
  },
  {
   "cell_type": "code",
   "execution_count": 10,
   "metadata": {},
   "outputs": [
    {
     "data": {
      "text/plain": [
       "11"
      ]
     },
     "execution_count": 10,
     "metadata": {},
     "output_type": "execute_result"
    }
   ],
   "source": [
    "#填写你的代码并运行\n",
    "your_number = rd.randint(0,21)\n",
    "your_number"
   ]
  },
  {
   "cell_type": "markdown",
   "metadata": {},
   "source": [
    "是不是基本掌握了一些，接下来我将使用random.choice()生成一些随机名字。以下代码可直接运行："
   ]
  },
  {
   "cell_type": "code",
   "execution_count": 11,
   "metadata": {},
   "outputs": [
    {
     "name": "stdout",
     "output_type": "stream",
     "text": [
      "Robat Brown\n",
      "Fendy White\n",
      "Shawn Jones\n",
      "Katherine Perez\n",
      "Richard Lopez\n",
      "Jacky Hill\n",
      "Cathy Roberts\n",
      "Lucy Harris\n",
      "Anne Hall\n",
      "Sara Martin\n"
     ]
    }
   ],
   "source": [
    "first = ['Jack','Jason','John','Jerry','Lucy','Lily','Ben','Lucas','Linda',\n",
    "    'Cathy','Betty','Sara','Selina','Michale','Jay','Tom','Jim','Lydia',\n",
    "    'Peter','Catherine','Katherine','Rich','Richard','Danny','Jane','Jenny',\n",
    "    'Jemmy','Lenny','Bob','Robat','Lucky','Sky','Sun','Jacky','Jackey','Happy',\n",
    "    'Apple','Michelle','Luna','Fendy','Tina','Anna','Anne','Leo','Neo','Shawn',\n",
    "    'Kathy','Diana','Steve','Steven','Vicent','Kevin','Kitty','Ruby','Jessica']\n",
    "\n",
    "second = ['Smith','Anderson','Clark','Wright','Mitchell',\n",
    "    'Johnson','Thomas','Rodriguez','Lopez','Perez',\n",
    "    'Williams','Jackson','Lewis','Hill','Roberts',\n",
    "    'Jones','White','Lee','Scott','Turner',\n",
    "    'Brown','Harris','Walker','Green','Phillips',\n",
    "    'Davis','Martin','Hall','Adams','Campbell']\n",
    "for i in range(10):\n",
    "    rd_name = rd.choice(first)+' '+rd.choice(second)\n",
    "    print(rd_name)"
   ]
  },
  {
   "cell_type": "markdown",
   "metadata": {},
   "source": [
    "#### 现在请你来尝试着添加150条随机会员信息并将它们添加到列表health_list中，要求原字典中的条目都有哦（包括姓名、年龄、性别、身高、体重、肌肉量、脂肪量），并满足如下条件：\n",
    "\n",
    "1、姓名从以上first、second列表中随机组合选择\n",
    "\n",
    "2、年龄为大于15小于60的整数\n",
    "\n",
    "3、性别只有male和female\n",
    "\n",
    "4、身高大于150小于200，体重大于30小于100\n",
    "\n",
    "5、肌肉量正常为30%~45%，脂肪量为10%~20%，当然你可以随机仿真一些异常的指数来表示这位会员身体不太健康。肌肉量与脂肪量可以使用这些范围中的随机比例与体重相乘获取。\n",
    "\n",
    "6、小数精确到小数点后一位，可使用round()函数。"
   ]
  },
  {
   "cell_type": "code",
   "execution_count": 12,
   "metadata": {},
   "outputs": [],
   "source": [
    "#填写你的代码并运行\n",
    "sex_choice = ['male', 'female']\n",
    "for i in range(150):\n",
    "    rd_name = rd.choice(first)+' '+rd.choice(second)\n",
    "    rd_age = rd.randint(15,61)\n",
    "    rd_sex = rd.choice(sex_choice)\n",
    "    rd_height = rd.randint(150,201)\n",
    "    rd_weight = rd.randint(30,101)\n",
    "    rd_muscle = round(rd.uniform(0.2,0.551) * rd_weight, 1)\n",
    "    rd_fat = round(rd.uniform(0.02,0.251) * rd_height, 1)\n",
    "    health_data = {'name': rd_name, 'age': rd_age, 'sex': rd_sex, 'height': rd_height, \n",
    "                   'weight': rd_weight, 'muscle': rd_muscle, 'fat': rd_fat}\n",
    "    health_list.append(health_data)"
   ]
  },
  {
   "cell_type": "markdown",
   "metadata": {},
   "source": [
    "是否添加成功了？使用列表切片方法查看一下第3~8条会员数据吧"
   ]
  },
  {
   "cell_type": "code",
   "execution_count": 13,
   "metadata": {},
   "outputs": [
    {
     "data": {
      "text/plain": [
       "[{'name': 'Michelle Adams',\n",
       "  'age': 18,\n",
       "  'sex': 'female',\n",
       "  'height': 186,\n",
       "  'weight': 74,\n",
       "  'muscle': 18.5,\n",
       "  'fat': 18.2},\n",
       " {'name': 'Danny Harris',\n",
       "  'age': 23,\n",
       "  'sex': 'male',\n",
       "  'height': 199,\n",
       "  'weight': 97,\n",
       "  'muscle': 44.0,\n",
       "  'fat': 37.1},\n",
       " {'name': 'Catherine Anderson',\n",
       "  'age': 29,\n",
       "  'sex': 'female',\n",
       "  'height': 186,\n",
       "  'weight': 67,\n",
       "  'muscle': 18.7,\n",
       "  'fat': 19.6},\n",
       " {'name': 'Jim Adams',\n",
       "  'age': 15,\n",
       "  'sex': 'female',\n",
       "  'height': 184,\n",
       "  'weight': 39,\n",
       "  'muscle': 18.9,\n",
       "  'fat': 31.3},\n",
       " {'name': 'Neo Martin',\n",
       "  'age': 58,\n",
       "  'sex': 'male',\n",
       "  'height': 188,\n",
       "  'weight': 44,\n",
       "  'muscle': 12.3,\n",
       "  'fat': 36.1},\n",
       " {'name': 'Luna Davis',\n",
       "  'age': 19,\n",
       "  'sex': 'female',\n",
       "  'height': 157,\n",
       "  'weight': 54,\n",
       "  'muscle': 12.5,\n",
       "  'fat': 22.0}]"
      ]
     },
     "execution_count": 13,
     "metadata": {},
     "output_type": "execute_result"
    }
   ],
   "source": [
    "health_list[3:9]"
   ]
  },
  {
   "cell_type": "markdown",
   "metadata": {},
   "source": [
    "#### 恭喜你！完成了我们所有会员信息的录入，接下来我们将使用可视化工具来分析这些数据。"
   ]
  },
  {
   "cell_type": "markdown",
   "metadata": {},
   "source": [
    "### Step3 - 数据可视化"
   ]
  },
  {
   "cell_type": "markdown",
   "metadata": {},
   "source": [
    "#### 在本章，我们将展示如何将数据绘制成科学的图。大部分时间，你只需要运行我们已经编写好的代码，而你需要编写的代码并不多。我们希望，你在最后能够通过一些图找出一些规律并且能够提升一些分析能力。"
   ]
  },
  {
   "cell_type": "markdown",
   "metadata": {},
   "source": [
    "首先，我们来观察一下数据中的人员组成："
   ]
  },
  {
   "cell_type": "code",
   "execution_count": 14,
   "metadata": {},
   "outputs": [
    {
     "data": {
      "text/plain": [
       "Text(0.5, 1.0, '年龄分布')"
      ]
     },
     "execution_count": 14,
     "metadata": {},
     "output_type": "execute_result"
    },
    {
     "data": {
      "image/png": "[encoded data removed]",
      "text/plain": [
       "<Figure size 864x360 with 2 Axes>"
      ]
     },
     "metadata": {
      "needs_background": "light"
     },
     "output_type": "display_data"
    }
   ],
   "source": [
    "data_health = pd.DataFrame(health_list)\n",
    "sorted_sex = data_health['sex'].value_counts()\n",
    "\n",
    "plt.rcParams['font.sans-serif']=['SimHei']\n",
    "plt.rcParams['axes.unicode_minus']=False\n",
    "#解决中文乱码\n",
    "plt.figure(figsize = [12, 5])\n",
    "\n",
    "plt.subplot(1, 2, 1)\n",
    "plt.pie(sorted_sex, labels = sorted_sex.index, startangle = 90,autopct='%.1f%%',counterclock = False);\n",
    "plt.axis('square')\n",
    "plt.title('性别分布')\n",
    "\n",
    "plt.subplot(1, 2, 2)\n",
    "x_range = np.arange(13, data_health['age'].max()+5, 5)\n",
    "plt.hist(data = data_health, x = 'age')\n",
    "plt.xticks(x_range, x_range)\n",
    "plt.xlabel('年龄（岁）')\n",
    "plt.ylabel('人数（人）')\n",
    "plt.title('年龄分布')"
   ]
  },
  {
   "cell_type": "markdown",
   "metadata": {},
   "source": [
    "我使用了饼图和直方图来完成性别与年龄的分布情况分析，相信你发现了，饼图可以展示整体与部分的关联，而直方图用于表示不同区间的分布情况。\n",
    "\n",
    "这便是数据可视化的魅力，用两个图我也许就能获知本健身房所在的地理位置有什么特点（该地点有什么样的人口分布）。\n",
    "\n",
    "#### 思考：你还可以从这两个图中获取什么实际信息？你可以填写在下面的留白处："
   ]
  },
  {
   "cell_type": "markdown",
   "metadata": {},
   "source": [
    "答："
   ]
  },
  {
   "cell_type": "markdown",
   "metadata": {},
   "source": [
    "计算BMI指数：BMI指数（即身体质量指数，简称体质指数又称体重，英文为Body Mass Index，简称BMI），是用体重公斤数除以身高米数平方得出的数字，是目前国际上常用的衡量人体胖瘦程度以及是否健康的一个标准。\n",
    "\n",
    "#### 通过计算BMI指数，我们可以得出每一位会员的健康情况，便于针对地进行训练计划的调整预指定。"
   ]
  },
  {
   "cell_type": "markdown",
   "metadata": {},
   "source": [
    "#### 体质指数（BMI）=体重（kg）÷ 身高^2（m）\n",
    "\n",
    "举例：70kg ÷（1.75×1.75）= 22.86\n",
    "\n",
    "    成人的BMI数值：\n",
    "\n",
    "    过轻：低于18.5\n",
    "\n",
    "    正常：18.5-23.9\n",
    "\n",
    "    过重：24-27\n",
    "\n",
    "    肥胖：28-32\n",
    "\n",
    "    非常肥胖, 高于32\n",
    "\n",
    "由于存在误差，所以BMI只能作为评估个人体重和健康状况的多项标准之一。"
   ]
  },
  {
   "cell_type": "markdown",
   "metadata": {},
   "source": [
    "#### （选做）请计算health_list中最后五名会员的BMI指数，并输出该指数："
   ]
  },
  {
   "cell_type": "code",
   "execution_count": 15,
   "metadata": {},
   "outputs": [
    {
     "data": {
      "text/plain": [
       "[14.15, 28.95, 14.32, 24.34, 31.74]"
      ]
     },
     "execution_count": 15,
     "metadata": {},
     "output_type": "execute_result"
    }
   ],
   "source": [
    "#填写你的代码并运行\n",
    "BMI = []\n",
    "\n",
    "for members in health_list[-5:]:\n",
    "    target_weight = target_height = 0\n",
    "    for idx, val in members.items():\n",
    "        if idx == 'weight':\n",
    "            target_weight = val\n",
    "        if idx == 'height':\n",
    "            target_height = val\n",
    "        if target_weight != 0 and target_height != 0:\n",
    "            BMI.append(round(target_weight / (target_height/100)**2, 2))\n",
    "            break\n",
    "BMI"
   ]
  },
  {
   "cell_type": "markdown",
   "metadata": {},
   "source": [
    "现在，我们将自动生成所有会员的BMI指数，并绘制图表示它们的分布情况："
   ]
  },
  {
   "cell_type": "code",
   "execution_count": 16,
   "metadata": {},
   "outputs": [
    {
     "data": {
      "text/plain": [
       "Text(0.5, 1.0, 'B M I 分布')"
      ]
     },
     "execution_count": 16,
     "metadata": {},
     "output_type": "execute_result"
    },
    {
     "data": {
      "image/png": "[encoded data removed]",
      "text/plain": [
       "<Figure size 864x720 with 1 Axes>"
      ]
     },
     "metadata": {
      "needs_background": "light"
     },
     "output_type": "display_data"
    }
   ],
   "source": [
    "def set_state(BMI):\n",
    "    if BMI <= 18.5:\n",
    "        return '过轻'\n",
    "    elif 18.5 < BMI <= 23.9:\n",
    "        return '正常'\n",
    "    elif 24 < BMI <= 27:\n",
    "        return '过重'\n",
    "    elif 28 < BMI <= 32:\n",
    "        return '肥胖'\n",
    "    else:\n",
    "        return '非常肥胖'\n",
    "\n",
    "data_health['BMI'] = data_health.apply(lambda x : round(x['weight'] / (x['height']/100)**2, 2), axis=1)\n",
    "data_health['BMI_state'] = data_health.apply(lambda x : set_state(x['BMI']), axis = 1)\n",
    "\n",
    "plt.figure(figsize = [12, 10])\n",
    "plt.scatter(data = data_health, x = 'BMI_state', y = 'BMI', alpha = 1/3)\n",
    "plt.xlabel('B M I 状态')\n",
    "plt.ylabel('B M I')\n",
    "plt.title('B M I 分布')"
   ]
  },
  {
   "cell_type": "markdown",
   "metadata": {},
   "source": [
    "在本散点图中，横轴代表会员的健康状态，纵轴代表实际的BMI指数，每个点代表一位会员的数据，颜色越深则说明该数值出现的频率越大。\n",
    "#### 思考：你可以从本图中发现什么信息？你可以填写在下面的留白处："
   ]
  },
  {
   "cell_type": "markdown",
   "metadata": {},
   "source": [
    "答："
   ]
  },
  {
   "cell_type": "markdown",
   "metadata": {},
   "source": [
    "#### 本案例仅用来展示与引导学生发现Python的能力与魅力，然而数据采用随机生成，会有不切合生活实际分布的情况发生，结合篇幅与内容，不再深入分析更多。"
   ]
  },
  {
   "cell_type": "markdown",
   "metadata": {},
   "source": [
    "#### 思考：如果此时有一个完整的真实的健身房会员数据集放在你面前，你还想从中分析或总结出什么信息？你可以填写在下面的留白处："
   ]
  },
  {
   "cell_type": "markdown",
   "metadata": {},
   "source": [
    "答："
   ]
  }
 ],
 "metadata": {
  "kernelspec": {
   "display_name": "Python 3",
   "language": "python",
   "name": "python3"
  },
  "language_info": {
   "codemirror_mode": {
    "name": "ipython",
    "version": 3
   },
   "file_extension": ".py",
   "mimetype": "text/x-python",
   "name": "python",
   "nbconvert_exporter": "python",
   "pygments_lexer": "ipython3",
   "version": "3.7.1"
  },
  "toc": {
   "base_numbering": 1,
   "nav_menu": {},
   "number_sections": true,
   "sideBar": true,
   "skip_h1_title": false,
   "title_cell": "Table of Contents",
   "title_sidebar": "Contents",
   "toc_cell": false,
   "toc_position": {},
   "toc_section_display": true,
   "toc_window_display": false
  }
 },
 "nbformat": 4,
 "nbformat_minor": 2
}
